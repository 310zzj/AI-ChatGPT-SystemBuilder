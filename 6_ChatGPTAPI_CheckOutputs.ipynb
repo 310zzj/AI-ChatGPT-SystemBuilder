{
 "cells": [
  {
   "attachments": {},
   "cell_type": "markdown",
   "metadata": {},
   "source": [
    "# L6: Check outputs\n",
    "\n",
    "## Setup\n",
    "Load the API key and relevant