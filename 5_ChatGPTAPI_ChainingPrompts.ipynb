
{
 "cells": [
  {
   "attachments": {},
   "cell_type": "markdown",
   "metadata": {},
   "source": [
    "# L5 Process Inputs: Chaining Prompts\n",